{
 "cells": [
  {
   "cell_type": "code",
   "execution_count": 7,
   "id": "e1fddec9",
   "metadata": {
    "tags": []
   },
   "outputs": [],
   "source": [
    "import pandas as pd\n",
    "\n",
    "uri = 'https://gist.githubusercontent.com/guilhermesilveira/2d2efa37d66b6c84a722ea627a897ced/raw/10968b997d885cbded1c92938c7a9912ba41c615/tracking.csv'\n",
    "dados = pd.read_csv(uri)"
   ]
  },
  {
   "cell_type": "code",
   "execution_count": 8,
   "id": "af77957f-df8b-46ad-841a-25c4d9e2ec0d",
   "metadata": {
    "tags": []
   },
   "outputs": [
    {
     "data": {
      "text/html": [
       "<div>\n",
       "<style scoped>\n",
       "    .dataframe tbody tr th:only-of-type {\n",
       "        vertical-align: middle;\n",
       "    }\n",
       "\n",
       "    .dataframe tbody tr th {\n",
       "        vertical-align: top;\n",
       "    }\n",
       "\n",
       "    .dataframe thead th {\n",
       "        text-align: right;\n",
       "    }\n",
       "</style>\n",
       "<table border=\"1\" class=\"dataframe\">\n",
       "  <thead>\n",
       "    <tr style=\"text-align: right;\">\n",
       "      <th></th>\n",
       "      <th>home</th>\n",
       "      <th>how_it_works</th>\n",
       "      <th>contact</th>\n",
       "      <th>bought</th>\n",
       "    </tr>\n",
       "  </thead>\n",
       "  <tbody>\n",
       "    <tr>\n",
       "      <th>0</th>\n",
       "      <td>1</td>\n",
       "      <td>1</td>\n",
       "      <td>0</td>\n",
       "      <td>0</td>\n",
       "    </tr>\n",
       "    <tr>\n",
       "      <th>1</th>\n",
       "      <td>1</td>\n",
       "      <td>1</td>\n",
       "      <td>0</td>\n",
       "      <td>0</td>\n",
       "    </tr>\n",
       "    <tr>\n",
       "      <th>2</th>\n",
       "      <td>1</td>\n",
       "      <td>1</td>\n",
       "      <td>0</td>\n",
       "      <td>0</td>\n",
       "    </tr>\n",
       "    <tr>\n",
       "      <th>3</th>\n",
       "      <td>1</td>\n",
       "      <td>1</td>\n",
       "      <td>0</td>\n",
       "      <td>0</td>\n",
       "    </tr>\n",
       "    <tr>\n",
       "      <th>4</th>\n",
       "      <td>1</td>\n",
       "      <td>1</td>\n",
       "      <td>0</td>\n",
       "      <td>0</td>\n",
       "    </tr>\n",
       "  </tbody>\n",
       "</table>\n",
       "</div>"
      ],
      "text/plain": [
       "   home  how_it_works  contact  bought\n",
       "0     1             1        0       0\n",
       "1     1             1        0       0\n",
       "2     1             1        0       0\n",
       "3     1             1        0       0\n",
       "4     1             1        0       0"
      ]
     },
     "execution_count": 8,
     "metadata": {},
     "output_type": "execute_result"
    }
   ],
   "source": [
    "dados.head()"
   ]
  },
  {
   "cell_type": "code",
   "execution_count": 12,
   "id": "0b8d4eae-c0b1-49cc-a216-0d3a55434be0",
   "metadata": {
    "tags": []
   },
   "outputs": [],
   "source": [
    "mapa = {\n",
    "    \"home\" : \"principal\",\n",
    "    \"how_it_works\" : \"como_funciona\",\n",
    "    \"contact\" : \"contato\",\n",
    "    \"bought\" : \"comprou\"\n",
    "}\n",
    "\n",
    "dados = dados.rename(columns = mapa)"
   ]
  },
  {
   "cell_type": "code",
   "execution_count": 15,
   "id": "cfdd0433-ac13-416c-b74e-749ec1e50988",
   "metadata": {
    "tags": []
   },
   "outputs": [
    {
     "name": "stdout",
     "output_type": "stream",
     "text": [
      "   principal  como_funciona  contato\n",
      "0          1              1        0\n",
      "1          1              1        0\n",
      "2          1              1        0\n",
      "3          1              1        0\n",
      "4          1              1        0\n",
      "0    0\n",
      "1    0\n",
      "2    0\n",
      "3    0\n",
      "4    0\n",
      "Name: comprou, dtype: int64\n"
     ]
    }
   ],
   "source": [
    "x = dados[[\"principal\", \"como_funciona\", \"contato\"]]\n",
    "y = dados[\"comprou\"]\n",
    "\n",
    "print(x.head())\n",
    "print(y.head())"
   ]
  },
  {
   "cell_type": "code",
   "execution_count": 16,
   "id": "b4c512af-3355-42a9-9dbc-8d0ab7a75944",
   "metadata": {
    "tags": []
   },
   "outputs": [
    {
     "name": "stdout",
     "output_type": "stream",
     "text": [
      "Treinaremos com 75 e testaremos com 24\n"
     ]
    }
   ],
   "source": [
    "treino_x = x[:75]\n",
    "treino_y = y[:75]\n",
    "teste_x = x[75:]\n",
    "teste_y = y[75:]\n",
    "\n",
    "print(f\"Treinaremos com {len(treino_x)} e testaremos com {len(teste_x)}\")"
   ]
  },
  {
   "cell_type": "code",
   "execution_count": 23,
   "id": "5d62b896-ceb8-40e6-aa62-2cab216e8baa",
   "metadata": {
    "tags": []
   },
   "outputs": [
    {
     "name": "stdout",
     "output_type": "stream",
     "text": [
      "A taxa de acerto é de 100.00%\n"
     ]
    }
   ],
   "source": [
    "from sklearn.svm import LinearSVC\n",
    "from sklearn.metrics import accuracy_score\n",
    "\n",
    "model = LinearSVC()\n",
    "model.fit(treino_x, treino_y)\n",
    "\n",
    "previsoes = model.predict(teste_x)\n",
    "acuracia = accuracy_score(teste_y, previsoes)\n",
    "\n",
    "print(f\"A taxa de acerto é de {acuracia:.2%}\")"
   ]
  },
  {
   "cell_type": "markdown",
   "id": "4c727125-3700-498d-8458-9bc57a86e4af",
   "metadata": {},
   "source": [
    "# Usando a biblioteca `train_test_split` para separa os dados"
   ]
  },
  {
   "cell_type": "code",
   "execution_count": 25,
   "id": "8ab7e4eb-9e45-4493-bfff-0878a9ea0c5e",
   "metadata": {
    "tags": []
   },
   "outputs": [
    {
     "name": "stdout",
     "output_type": "stream",
     "text": [
      "Treinaremos com 74 e testaremos com 25\n",
      "A taxa de acerto é de 96.00%\n"
     ]
    }
   ],
   "source": [
    "from sklearn.svm import LinearSVC\n",
    "from sklearn.metrics import accuracy_score\n",
    "from sklearn.model_selection import train_test_split\n",
    "\n",
    "SEED = 20\n",
    "\n",
    "treino_x, teste_x, treino_y, teste_y = train_test_split(x, y, random_state=SEED, stratify=y)\n",
    "\n",
    "print(f\"Treinaremos com {len(treino_x)} e testaremos com {len(teste_x)}\")\n",
    "\n",
    "model = LinearSVC()\n",
    "model.fit(treino_x, treino_y)\n",
    "\n",
    "previsoes = model.predict(teste_x)\n",
    "acuracia = accuracy_score(teste_y, previsoes)\n",
    "\n",
    "print(f\"A taxa de acerto é de {acuracia:.2%}\")"
   ]
  },
  {
   "cell_type": "code",
   "execution_count": null,
   "id": "aa91b385-ec8e-4ea2-a63a-a4dd029a8bba",
   "metadata": {},
   "outputs": [],
   "source": []
  }
 ],
 "metadata": {
  "kernelspec": {
   "display_name": "Python 3 (ipykernel)",
   "language": "python",
   "name": "python3"
  },
  "language_info": {
   "codemirror_mode": {
    "name": "ipython",
    "version": 3
   },
   "file_extension": ".py",
   "mimetype": "text/x-python",
   "name": "python",
   "nbconvert_exporter": "python",
   "pygments_lexer": "ipython3",
   "version": "3.11.3"
  }
 },
 "nbformat": 4,
 "nbformat_minor": 5
}
